{
  "cells": [
    {
      "cell_type": "code",
      "source": [
        "!pip install -U torch==1.13.1+cu116 torchtext==0.6.0 -f https://download.pytorch.org/whl/torch_stable.html"
      ],
      "metadata": {
        "colab": {
          "base_uri": "https://localhost:8080/"
        },
        "id": "NcVvrQkFp0JE",
        "outputId": "d41f2bf9-c433-4b67-fc8a-d79c5ed16ec1"
      },
      "execution_count": null,
      "outputs": [
        {
          "output_type": "stream",
          "name": "stdout",
          "text": [
            "Looking in links: https://download.pytorch.org/whl/torch_stable.html\n",
            "Requirement already satisfied: torch==1.13.1+cu116 in /usr/local/lib/python3.10/dist-packages (1.13.1+cu116)\n",
            "Requirement already satisfied: torchtext==0.6.0 in /usr/local/lib/python3.10/dist-packages (0.6.0)\n",
            "Requirement already satisfied: typing-extensions in /usr/local/lib/python3.10/dist-packages (from torch==1.13.1+cu116) (4.12.2)\n",
            "Requirement already satisfied: tqdm in /usr/local/lib/python3.10/dist-packages (from torchtext==0.6.0) (4.66.4)\n",
            "Requirement already satisfied: requests in /usr/local/lib/python3.10/dist-packages (from torchtext==0.6.0) (2.31.0)\n",
            "Requirement already satisfied: numpy in /usr/local/lib/python3.10/dist-packages (from torchtext==0.6.0) (1.25.2)\n",
            "Requirement already satisfied: six in /usr/local/lib/python3.10/dist-packages (from torchtext==0.6.0) (1.16.0)\n",
            "Requirement already satisfied: sentencepiece in /usr/local/lib/python3.10/dist-packages (from torchtext==0.6.0) (0.1.99)\n",
            "Requirement already satisfied: charset-normalizer<4,>=2 in /usr/local/lib/python3.10/dist-packages (from requests->torchtext==0.6.0) (3.3.2)\n",
            "Requirement already satisfied: idna<4,>=2.5 in /usr/local/lib/python3.10/dist-packages (from requests->torchtext==0.6.0) (3.7)\n",
            "Requirement already satisfied: urllib3<3,>=1.21.1 in /usr/local/lib/python3.10/dist-packages (from requests->torchtext==0.6.0) (2.0.7)\n",
            "Requirement already satisfied: certifi>=2017.4.17 in /usr/local/lib/python3.10/dist-packages (from requests->torchtext==0.6.0) (2024.7.4)\n"
          ]
        }
      ]
    },
    {
      "cell_type": "code",
      "execution_count": null,
      "metadata": {
        "id": "HgfNOUaPa9z8"
      },
      "outputs": [],
      "source": [
        "import torch\n",
        "import torch.nn as nn\n",
        "import torch.nn.functional as F\n",
        "import torch.optim as optim\n",
        "import numpy as np\n",
        "import torchtext\n",
        "from torchtext.data import Field, Example\n",
        "from torchtext.data import BucketIterator\n",
        "from torchtext.vocab import GloVe\n",
        "import matplotlib.pyplot as plt"
      ]
    },
    {
      "cell_type": "markdown",
      "metadata": {
        "id": "M0jLI9LBa90C"
      },
      "source": [
        "## Data Cleaning\n",
        "\n",
        "Using the \"SMS Spam Collection Data Set\" available at http://archive.ics.uci.edu/ml/datasets/SMS+Spam+Collection\n",
        "  "
      ]
    },
    {
      "cell_type": "code",
      "execution_count": null,
      "metadata": {
        "colab": {
          "base_uri": "https://localhost:8080/"
        },
        "id": "GDbvmA9SILXP",
        "outputId": "099f27e0-6457-4396-fc08-8ecabfb3b2c3"
      },
      "outputs": [
        {
          "output_type": "stream",
          "name": "stdout",
          "text": [
            "Drive already mounted at /content/drive; to attempt to forcibly remount, call drive.mount(\"/content/drive\", force_remount=True).\n"
          ]
        }
      ],
      "source": [
        "from google.colab import drive\n",
        "drive.mount('/content/drive')"
      ]
    },
    {
      "cell_type": "code",
      "execution_count": null,
      "metadata": {
        "id": "PiJJH373IdZ4"
      },
      "outputs": [],
      "source": [
        "data_dir = '/content/drive/MyDrive/2024-2025/Summer/APS360/Labs/Lab5/SMSSpamCollection'"
      ]
    },
    {
      "cell_type": "code",
      "execution_count": null,
      "metadata": {
        "colab": {
          "base_uri": "https://localhost:8080/"
        },
        "id": "I_IfXHeTa90F",
        "outputId": "d2fe9adc-f016-435f-f221-2be6b24809c3"
      },
      "outputs": [
        {
          "output_type": "stream",
          "name": "stdout",
          "text": [
            "ham\tGo until jurong point, crazy.. Available only in bugis n great world la e buffet... Cine there got amore wat...\n",
            "\n",
            "spam\tFree entry in 2 a wkly comp to win FA Cup final tkts 21st May 2005. Text FA to 87121 to receive entry question(std txt rate)T&C's apply 08452810075over18's\n",
            "\n"
          ]
        }
      ],
      "source": [
        "for line in open(data_dir):\n",
        "    split_line = line.split(\"\t\")\n",
        "    if split_line[0] == \"ham\":\n",
        "      print(line)\n",
        "      break\n",
        "\n",
        "for line2 in open(data_dir):\n",
        "    split_line2 = line2.split(\"\t\")\n",
        "    if split_line2[0] == \"spam\":\n",
        "      print(line2)\n",
        "      break"
      ]
    },
    {
      "cell_type": "markdown",
      "metadata": {
        "id": "ioirQ2RsLTn9"
      },
      "source": [
        "Label value for spam: \"spam\"\n",
        "\n",
        "Label value for non-spam: \"ham\""
      ]
    },
    {
      "cell_type": "code",
      "execution_count": null,
      "metadata": {
        "colab": {
          "base_uri": "https://localhost:8080/"
        },
        "id": "LgsqyemVa90e",
        "outputId": "03222369-cfc0-4e06-aa89-1c20eae656b9"
      },
      "outputs": [
        {
          "output_type": "stream",
          "name": "stdout",
          "text": [
            "Number of non-span messages: 4827\n",
            "Number of spam messages: 747\n"
          ]
        }
      ],
      "source": [
        "non_spam_counter = 0\n",
        "for line in open(data_dir):\n",
        "    split_line = line.split(\"\t\")\n",
        "    if split_line[0] == \"ham\":\n",
        "      non_spam_counter += 1\n",
        "\n",
        "print(\"Number of non-span messages:\", non_spam_counter)\n",
        "\n",
        "spam_counter = 0\n",
        "for line2 in open(data_dir):\n",
        "    split_line2 = line2.split(\"\t\")\n",
        "    if split_line2[0] == \"spam\":\n",
        "      spam_counter += 1\n",
        "\n",
        "print(\"Number of spam messages:\", spam_counter)"
      ]
    },
    {
      "cell_type": "code",
      "execution_count": null,
      "metadata": {
        "id": "8BC4mXg5OJI7"
      },
      "outputs": [],
      "source": [
        "text_field = Field(sequential=True, use_vocab=True, tokenize=lambda x: x, batch_first=True, include_lengths=True)\n",
        "label_field = Field(sequential=False, use_vocab=False)\n",
        "fields = fields = [('sms', text_field), ('label', label_field), ]\n",
        "examples = []\n",
        "\n",
        "for line in open(data_dir):\n",
        "    label, sms = line.split(\"\\t\")\n",
        "    examples.append(Example.fromlist([sms, 1 if label == \"spam\" else 0], fields))\n",
        "\n",
        "dataset = torchtext.data.Dataset(examples=examples, fields=fields)"
      ]
    },
    {
      "cell_type": "code",
      "source": [
        "np.random.seed(42)\n",
        "train, valid, test = dataset.split(split_ratio=[0.6, 0.2, 0.2], stratified=True, strata_field='label', random_state=None)"
      ],
      "metadata": {
        "id": "bVvcKRgkgbIL"
      },
      "execution_count": null,
      "outputs": []
    },
    {
      "cell_type": "code",
      "execution_count": null,
      "metadata": {
        "collapsed": true,
        "id": "FWvx9_rka90p"
      },
      "outputs": [],
      "source": [
        "# save the original training examples\n",
        "old_train_examples = train.examples\n",
        "# get all the spam messages in `train`\n",
        "train_spam = []\n",
        "for item in train.examples:\n",
        "    if item.label == 1:\n",
        "        train_spam.append(item)\n",
        "# duplicate each spam message 6 more times\n",
        "train.examples = old_train_examples + train_spam * 6"
      ]
    },
    {
      "cell_type": "code",
      "execution_count": null,
      "metadata": {
        "collapsed": true,
        "id": "8CQM8flKa90s"
      },
      "outputs": [],
      "source": [
        "text_field.build_vocab(train)\n",
        "# text_field.vocab.stoi\n",
        "# text_field.vocab.itos"
      ]
    },
    {
      "cell_type": "markdown",
      "source": [
        "text_field.vocab.stoi: A vocab object that will be used to numericalize a field. More specifically, stoi stands for \"string to index.\"\n",
        "\n",
        "\n",
        "text_field.vocab.itos: A vocab object that will be used to convert numerical indices back to token string. More specifically, itos stands for \"index to string.\""
      ],
      "metadata": {
        "id": "9ItrU9BRm6Hz"
      }
    },
    {
      "cell_type": "markdown",
      "source": [
        "\\<unk>: represents unknown tokens that were not found during training\n",
        "\n",
        "\\<pad>: represents padding and is used to pad sequences to equal lengths"
      ],
      "metadata": {
        "id": "uRvt1gFUx6wp"
      }
    },
    {
      "cell_type": "code",
      "execution_count": null,
      "metadata": {
        "collapsed": true,
        "id": "V8N8qLWOa90y"
      },
      "outputs": [],
      "source": [
        "train_iter = torchtext.data.BucketIterator(train,\n",
        "                                           batch_size=32,\n",
        "                                           sort_key=lambda x: len(x.sms), # to minimize padding\n",
        "                                           sort_within_batch=True,        # sort within each batch\n",
        "                                           repeat=False)                  # repeat the iterator for many epochs"
      ]
    },
    {
      "cell_type": "code",
      "execution_count": null,
      "metadata": {
        "id": "Qwz-rOaha902",
        "colab": {
          "base_uri": "https://localhost:8080/"
        },
        "outputId": "723a9a3f-ce08-4aef-8b5a-bb250f0943a7"
      },
      "outputs": [
        {
          "output_type": "stream",
          "name": "stdout",
          "text": [
            "Batch # 1 :\n",
            "Maximum length is 29 and number of <pad> tokens is 26 \n",
            "\n",
            "Batch # 2 :\n",
            "Maximum length is 163 and number of <pad> tokens is 21 \n",
            "\n",
            "Batch # 3 :\n",
            "Maximum length is 156 and number of <pad> tokens is 0 \n",
            "\n",
            "Batch # 4 :\n",
            "Maximum length is 23 and number of <pad> tokens is 22 \n",
            "\n",
            "Batch # 5 :\n",
            "Maximum length is 77 and number of <pad> tokens is 48 \n",
            "\n",
            "Batch # 6 :\n",
            "Maximum length is 98 and number of <pad> tokens is 51 \n",
            "\n",
            "Batch # 7 :\n",
            "Maximum length is 74 and number of <pad> tokens is 31 \n",
            "\n",
            "Batch # 8 :\n",
            "Maximum length is 13 and number of <pad> tokens is 160 \n",
            "\n",
            "Batch # 9 :\n",
            "Maximum length is 87 and number of <pad> tokens is 74 \n",
            "\n",
            "Batch # 10 :\n",
            "Maximum length is 159 and number of <pad> tokens is 16 \n",
            "\n"
          ]
        }
      ],
      "source": [
        "cntr = 0\n",
        "for batch in train_iter:\n",
        "    pad_num = 0\n",
        "    if cntr == 10:\n",
        "      break\n",
        "    print(\"Batch #\", cntr+1, \":\")\n",
        "    max_len = batch.sms[1][0]\n",
        "    print(\"Maximum length is\", max_len.item(), end=\"\")\n",
        "\n",
        "    for sms in batch.sms:\n",
        "        pad_num += (sms == text_field.vocab.stoi[\"<pad>\"]).sum().item()\n",
        "\n",
        "    print(\" and number of <pad> tokens is\", pad_num, \"\\n\")\n",
        "\n",
        "    cntr += 1\n",
        "\n"
      ]
    },
    {
      "cell_type": "markdown",
      "metadata": {
        "id": "y7HnqP6_a904"
      },
      "source": [
        "## Model Building\n"
      ]
    },
    {
      "cell_type": "code",
      "execution_count": null,
      "metadata": {
        "id": "jHl1p_Wwa905",
        "colab": {
          "base_uri": "https://localhost:8080/"
        },
        "outputId": "67760f32-6acd-4554-b558-715bff3073c3"
      },
      "outputs": [
        {
          "output_type": "stream",
          "name": "stdout",
          "text": [
            "tensor([1., 0., 0., 0., 0., 0., 0., 0., 0., 0.])\n",
            "tensor([0., 1., 0., 0., 0., 0., 0., 0., 0., 0.])\n",
            "tensor([[[0., 1., 0., 0., 0., 0., 0., 0., 0., 0.],\n",
            "         [0., 0., 1., 0., 0., 0., 0., 0., 0., 0.]],\n",
            "\n",
            "        [[0., 0., 0., 1., 0., 0., 0., 0., 0., 0.],\n",
            "         [0., 0., 0., 0., 1., 0., 0., 0., 0., 0.]]])\n"
          ]
        }
      ],
      "source": [
        "ident = torch.eye(10)\n",
        "print(ident[0]) # one-hot vector\n",
        "print(ident[1]) # one-hot vector\n",
        "x = torch.tensor([[1, 2], [3, 4]])\n",
        "print(ident[x]) # one-hot vectors"
      ]
    },
    {
      "cell_type": "code",
      "execution_count": null,
      "metadata": {
        "collapsed": true,
        "id": "4LTQ7zFka909"
      },
      "outputs": [],
      "source": [
        "class SpamRNN(nn.Module):\n",
        "    def __init__(self, input_size, hidden_size, num_class):\n",
        "        super(SpamRNN, self).__init__()\n",
        "        self.emb = torch.eye(input_size)\n",
        "        self.hidden_size = hidden_size\n",
        "        self.rnn = nn.GRU(input_size, hidden_size, batch_first=True)\n",
        "        self.fc = nn.Linear(hidden_size, num_class)\n",
        "\n",
        "    def forward(self, x):\n",
        "        encodings = []\n",
        "        for elem in x:\n",
        "            encodings.append(self.emb[elem])\n",
        "\n",
        "        x = torch.stack(encodings)\n",
        "\n",
        "        # set the initial hidden states\n",
        "        h0 = torch.zeros(1, x.size(0), self.hidden_size)\n",
        "        # forward propagate the RNN\n",
        "        out, _ = self.rnn(x)\n",
        "        # pass the output of the last step to the classifier\n",
        "        out = self.fc(out[:, -1, :])\n",
        "        return out"
      ]
    },
    {
      "cell_type": "markdown",
      "metadata": {
        "id": "vKIYPl_Ba90_"
      },
      "source": [
        "## Training\n"
      ]
    },
    {
      "cell_type": "code",
      "execution_count": null,
      "metadata": {
        "collapsed": true,
        "id": "pvNfhGD6a91A"
      },
      "outputs": [],
      "source": [
        "def get_accuracy(model, data):\n",
        "    \"\"\" Compute the accuracy of the `model` across a dataset `data`\n",
        "\n",
        "    Example usage:\n",
        "\n",
        "    >>> model = MyRNN() # to be defined\n",
        "    >>> get_accuracy(model, valid) # the variable `valid` is from above\n",
        "    \"\"\"\n",
        "    correct = 0\n",
        "    total = 0\n",
        "    for batch in data:\n",
        "        sms = batch.sms[0]\n",
        "        labels = batch.label\n",
        "        output = model(sms)\n",
        "        pred = output.max(1, keepdim=True)[1]\n",
        "        correct += pred.eq(labels.view_as(pred)).sum().item()\n",
        "        total += labels.shape[0]\n",
        "    return correct / total"
      ]
    },
    {
      "cell_type": "code",
      "source": [
        "def evaluate_val_loss(model, loader, criterion):\n",
        "    total_val_loss = 0\n",
        "    i = 0\n",
        "\n",
        "    for batch in loader:\n",
        "        sms = batch.sms[0]\n",
        "        labels = batch.label\n",
        "        pred = model(sms)\n",
        "        loss = criterion(pred, labels)\n",
        "        total_val_loss += loss.item()\n",
        "        i += 1\n",
        "    return float(total_val_loss)/(i+1)"
      ],
      "metadata": {
        "id": "rSwd7unvIJ9D"
      },
      "execution_count": null,
      "outputs": []
    },
    {
      "cell_type": "code",
      "execution_count": null,
      "metadata": {
        "collapsed": true,
        "id": "CVtf7CJCa91D"
      },
      "outputs": [],
      "source": [
        "def train_model(model, train_loader, val_loader, num_epochs=10, learning_rate=0.001, plot=False):\n",
        "    optimizer = torch.optim.Adam(model.parameters(), lr=learning_rate)\n",
        "    criterion = nn.CrossEntropyLoss()\n",
        "\n",
        "    train_loss = np.zeros(num_epochs)\n",
        "    train_acc = np.zeros(num_epochs)\n",
        "    val_loss = np.zeros(num_epochs)\n",
        "    val_acc = np.zeros(num_epochs)\n",
        "    total_epoch = 0\n",
        "\n",
        "    for epoch in range(num_epochs):\n",
        "      epoch_train_loss = 0\n",
        "      i = 0\n",
        "      for batch in train_loader:\n",
        "          sms = batch.sms[0]\n",
        "          labels = batch.label\n",
        "          optimizer.zero_grad()\n",
        "          pred = model(sms)\n",
        "          loss = criterion(pred, labels)\n",
        "          loss.backward()\n",
        "          optimizer.step()\n",
        "\n",
        "          epoch_train_loss += loss.item()\n",
        "          i += 1\n",
        "\n",
        "      # train loss and accuracy\n",
        "      train_loss[epoch] = float(epoch_train_loss)/(i+1)\n",
        "      train_acc[epoch] = get_accuracy(model, train_loader)\n",
        "\n",
        "      # val loss and accuracy\n",
        "      val_loss[epoch] = evaluate_val_loss(model, val_loader,criterion)\n",
        "      val_acc[epoch] = get_accuracy(model, val_loader)\n",
        "\n",
        "      print((\"Epoch {}: Train accuracy: {}, Train loss: {} |\"+ \"Validation accuracy: {}, Validation loss: {}\").format(epoch + 1, train_acc[epoch], train_loss[epoch], val_acc[epoch], val_loss[epoch]))\n",
        "\n",
        "      # Save the current model (checkpoint) to a file\n",
        "      # model_path = get_model_name(model.name,learning_rate, epoch) # torch.save(model.state_dict(), model_path)\n",
        "    print(\"Finished training\")\n",
        "\n",
        "\n",
        "    if plot:\n",
        "      # Plotting\n",
        "      plt.title(\"Train vs Validation Loss\")\n",
        "      plt.plot(range(1 ,num_epochs+1), train_loss, label=\"Train\")\n",
        "      plt.plot(range(1 ,num_epochs+1), val_loss, label=\"Validation\")\n",
        "      plt.xlabel(\"Epochs\")\n",
        "      plt.ylabel(\"Loss\")\n",
        "      plt.legend(loc='best')\n",
        "      plt.show()\n",
        "\n",
        "      plt.title(\"Train vs Validation Accuracy\")\n",
        "      plt.plot(range(1 ,num_epochs+1), train_acc, label=\"Train\")\n",
        "      plt.plot(range(1 ,num_epochs+1), val_acc, label=\"Validation\")\n",
        "      plt.xlabel(\"Epochs\")\n",
        "      plt.ylabel(\"Training Accuracy\")\n",
        "      plt.legend(loc='best')\n",
        "      plt.show()"
      ]
    },
    {
      "cell_type": "code",
      "source": [
        "batch_size = 32\n",
        "\n",
        "# train_iter = torchtext.data.BucketIterator(train,\n",
        "#                                            batch_size=32,\n",
        "#                                            sort_key=lambda x: len(x.sms), # to minimize padding\n",
        "#                                            sort_within_batch=True,        # sort within each batch\n",
        "#                                            repeat=False)                  # repeat the iterator for many epochs\n",
        "\n",
        "val_iter = torchtext.data.BucketIterator(valid,\n",
        "                                           batch_size=32,\n",
        "                                           sort_key=lambda x: len(x.sms), # to minimize padding\n",
        "                                           sort_within_batch=True,        # sort within each batch\n",
        "                                           repeat=False)                  # repeat the iterator for many epochs\n"
      ],
      "metadata": {
        "id": "7GOMAyCgMJ8a"
      },
      "execution_count": null,
      "outputs": []
    },
    {
      "cell_type": "code",
      "source": [
        "model = SpamRNN(input_size=len(text_field.vocab.itos), hidden_size=50, num_class=2)\n",
        "train_model(model, train_iter, val_iter, plot=True)\n"
      ],
      "metadata": {
        "colab": {
          "base_uri": "https://localhost:8080/",
          "height": 1000
        },
        "id": "Ferpqn5PJpm6",
        "outputId": "86f65bba-c76a-421d-d522-231c1ef89fc2"
      },
      "execution_count": null,
      "outputs": [
        {
          "output_type": "stream",
          "name": "stdout",
          "text": [
            "Epoch 1: Train accuracy: 0.9255636604774535, Train loss: 0.4688026258770965 |Validation accuracy: 0.9551971326164874, Validation loss: 0.23603445664048195\n",
            "Epoch 2: Train accuracy: 0.9282161803713528, Train loss: 0.21370953138623583 |Validation accuracy: 0.9614695340501792, Validation loss: 0.15677466512554222\n",
            "Epoch 3: Train accuracy: 0.9210875331564987, Train loss: 0.1878756267214684 |Validation accuracy: 0.9086021505376344, Validation loss: 0.3459832049492333\n",
            "Epoch 4: Train accuracy: 0.95407824933687, Train loss: 0.16856309538216968 |Validation accuracy: 0.9489247311827957, Validation loss: 0.18230371611813703\n",
            "Epoch 5: Train accuracy: 0.9232427055702918, Train loss: 0.14831795219430013 |Validation accuracy: 0.9650537634408602, Validation loss: 0.12872522370889783\n",
            "Epoch 6: Train accuracy: 0.9525862068965517, Train loss: 0.15597762779308189 |Validation accuracy: 0.9480286738351255, Validation loss: 0.233381572800378\n",
            "Epoch 7: Train accuracy: 0.9688328912466844, Train loss: 0.12615809127149222 |Validation accuracy: 0.9758064516129032, Validation loss: 0.10338185199846824\n",
            "Epoch 8: Train accuracy: 0.9714854111405835, Train loss: 0.10575623905139142 |Validation accuracy: 0.978494623655914, Validation loss: 0.09845616787465082\n",
            "Epoch 9: Train accuracy: 0.9729774535809018, Train loss: 0.11038963783434347 |Validation accuracy: 0.978494623655914, Validation loss: 0.1030466391498016\n",
            "Epoch 10: Train accuracy: 0.9655172413793104, Train loss: 0.11724370941213381 |Validation accuracy: 0.974910394265233, Validation loss: 0.0910045776464459\n",
            "Finished training\n"
          ]
        },
        {
          "output_type": "display_data",
          "data": {
            "text/plain": [
              "<Figure size 640x480 with 1 Axes>"
            ],
            "image/png": "[encoded data removed]"
          },
          "metadata": {}
        },
        {
          "output_type": "display_data",
          "data": {
            "text/plain": [
              "<Figure size 640x480 with 1 Axes>"
            ],
            "image/png": "[encoded data removed]"
          },
          "metadata": {}
        }
      ]
    },
    {
      "cell_type": "markdown",
      "source": [
        "## Hyper Parameter Tuning"
      ],
      "metadata": {
        "id": "Nq9uhN2bnjvT"
      }
    },
    {
      "cell_type": "code",
      "execution_count": null,
      "metadata": {
        "id": "A2GEWfDca91G",
        "colab": {
          "base_uri": "https://localhost:8080/"
        },
        "outputId": "26b8f816-0f1a-40ea-aa53-5f63d94369de"
      },
      "outputs": [
        {
          "output_type": "stream",
          "name": "stdout",
          "text": [
            "Epoch 1: Train accuracy: 0.9514257294429708, Train loss: 0.22656532569151175 |Validation accuracy: 0.9551971326164874, Validation loss: 0.1590762678016391\n",
            "Epoch 2: Train accuracy: 0.9534151193633952, Train loss: 0.17608097639841666 |Validation accuracy: 0.9605734767025089, Validation loss: 0.1545614218339324\n",
            "Epoch 3: Train accuracy: 0.9678381962864722, Train loss: 0.13137104689192616 |Validation accuracy: 0.9704301075268817, Validation loss: 0.12819824264281326\n",
            "Epoch 4: Train accuracy: 0.9655172413793104, Train loss: 0.11298886792685249 |Validation accuracy: 0.9802867383512545, Validation loss: 0.09849717339966446\n",
            "Epoch 5: Train accuracy: 0.9792771883289124, Train loss: 0.09707713330035882 |Validation accuracy: 0.9668458781362007, Validation loss: 0.11148419189784262\n",
            "Epoch 6: Train accuracy: 0.9827586206896551, Train loss: 0.09149800220360416 |Validation accuracy: 0.9668458781362007, Validation loss: 0.13134750485834149\n",
            "Epoch 7: Train accuracy: 0.9864058355437666, Train loss: 0.0469943007042993 |Validation accuracy: 0.9650537634408602, Validation loss: 0.12160459111651613\n",
            "Epoch 8: Train accuracy: 0.9971816976127321, Train loss: 0.02120479278313915 |Validation accuracy: 0.9793906810035843, Validation loss: 0.11314003395333809\n",
            "Epoch 9: Train accuracy: 0.9683355437665783, Train loss: 0.05175174558475862 |Validation accuracy: 0.9758064516129032, Validation loss: 0.10408415215351852\n",
            "Epoch 10: Train accuracy: 0.9878978779840849, Train loss: 0.06935322014498141 |Validation accuracy: 0.9632616487455197, Validation loss: 0.12439764249655935\n",
            "Finished training\n"
          ]
        }
      ],
      "source": [
        "# Test 1: increase learning rate to 0.01\n",
        "train_model(model, train_iter, val_iter, plot=False, learning_rate = 0.01)"
      ]
    },
    {
      "cell_type": "code",
      "source": [
        "# Test 2: decrease num epochs to 7\n",
        "model = SpamRNN(input_size=len(text_field.vocab.itos), hidden_size=50, num_class=2)\n",
        "train_model(model, train_iter, val_iter, plot=False, learning_rate = 0.001, num_epochs=7)"
      ],
      "metadata": {
        "colab": {
          "base_uri": "https://localhost:8080/"
        },
        "id": "o1biBX85WR97",
        "outputId": "3a02e81c-c9a3-47a2-bb9e-bed6242cd550"
      },
      "execution_count": null,
      "outputs": [
        {
          "output_type": "stream",
          "name": "stdout",
          "text": [
            "Epoch 1: Train accuracy: 0.9069960212201591, Train loss: 0.5256836504283312 |Validation accuracy: 0.956989247311828, Validation loss: 0.211033894163039\n",
            "Epoch 2: Train accuracy: 0.9464522546419099, Train loss: 0.20685883582030473 |Validation accuracy: 0.9587813620071685, Validation loss: 0.19255960411909553\n",
            "Epoch 3: Train accuracy: 0.9510941644562334, Train loss: 0.1733183876341699 |Validation accuracy: 0.9686379928315412, Validation loss: 0.14456764712101883\n",
            "Epoch 4: Train accuracy: 0.9509283819628647, Train loss: 0.17704468231010986 |Validation accuracy: 0.9731182795698925, Validation loss: 0.12273918402691682\n",
            "Epoch 5: Train accuracy: 0.9449602122015915, Train loss: 0.15807166566680136 |Validation accuracy: 0.974910394265233, Validation loss: 0.11008221790608433\n",
            "Epoch 6: Train accuracy: 0.8023872679045093, Train loss: 0.41003352656568354 |Validation accuracy: 0.9229390681003584, Validation loss: 0.3579285028907988\n",
            "Epoch 7: Train accuracy: 0.8624005305039788, Train loss: 0.3764745146428284 |Validation accuracy: 0.910394265232975, Validation loss: 0.2755498310758008\n",
            "Finished training\n"
          ]
        }
      ]
    },
    {
      "cell_type": "code",
      "source": [
        "# Test 3: change GRU to RNN\n",
        "class SpamRNN2(nn.Module):\n",
        "    def __init__(self, input_size, hidden_size, num_class):\n",
        "        super(SpamRNN2, self).__init__()\n",
        "        self.emb = torch.eye(input_size)\n",
        "        self.hidden_size = hidden_size\n",
        "        self.rnn = nn.RNN(input_size, hidden_size, batch_first=True)\n",
        "        self.fc = nn.Linear(hidden_size, num_class)\n",
        "\n",
        "    def forward(self, x):\n",
        "        encodings = []\n",
        "        for elem in x:\n",
        "            encodings.append(self.emb[elem])\n",
        "\n",
        "        x = torch.stack(encodings)\n",
        "\n",
        "        # set the initial hidden states\n",
        "        h0 = torch.zeros(1, x.size(0), self.hidden_size)\n",
        "        # forward propagate the RNN\n",
        "        out, _ = self.rnn(x)\n",
        "        # pass the output of the last step to the classifier\n",
        "        out = self.fc(out[:, -1, :])\n",
        "        return out\n",
        "\n",
        "RNN_model = SpamRNN2(input_size=len(text_field.vocab.itos), hidden_size=50, num_class=2)\n",
        "train_model(RNN_model, train_iter, val_iter, plot=False)"
      ],
      "metadata": {
        "colab": {
          "base_uri": "https://localhost:8080/"
        },
        "id": "pMsBd6IJWabd",
        "outputId": "5f33e914-7969-4593-a26d-81744611da92"
      },
      "execution_count": null,
      "outputs": [
        {
          "output_type": "stream",
          "name": "stdout",
          "text": [
            "Epoch 1: Train accuracy: 0.7853116710875332, Train loss: 0.5686487767257189 |Validation accuracy: 0.9166666666666666, Validation loss: 0.2985070273280144\n",
            "Epoch 2: Train accuracy: 0.5750994694960212, Train loss: 0.4027388936006709 |Validation accuracy: 0.8539426523297491, Validation loss: 0.4564818971686893\n",
            "Epoch 3: Train accuracy: 0.48010610079575594, Train loss: 0.45567039225838685 |Validation accuracy: 0.8655913978494624, Validation loss: 0.46765632265143925\n",
            "Epoch 4: Train accuracy: 0.6763925729442971, Train loss: 0.6473862026867113 |Validation accuracy: 0.48028673835125446, Validation loss: 0.7055569258001115\n",
            "Epoch 5: Train accuracy: 0.740550397877984, Train loss: 0.5674178069359378 |Validation accuracy: 0.7974910394265233, Validation loss: 0.50091260092126\n",
            "Epoch 6: Train accuracy: 0.71684350132626, Train loss: 0.5115235084765836 |Validation accuracy: 0.5636200716845878, Validation loss: 0.6843887186712689\n",
            "Epoch 7: Train accuracy: 0.8411803713527851, Train loss: 0.4557890380683698 |Validation accuracy: 0.8297491039426523, Validation loss: 0.36023680079314446\n",
            "Epoch 8: Train accuracy: 0.9186007957559682, Train loss: 0.39361800733757646 |Validation accuracy: 0.9193548387096774, Validation loss: 0.22718675972686875\n",
            "Epoch 9: Train accuracy: 0.9240716180371353, Train loss: 0.26137787986938893 |Validation accuracy: 0.9435483870967742, Validation loss: 0.20473202493869597\n",
            "Epoch 10: Train accuracy: 0.8048740053050398, Train loss: 0.3041834228917172 |Validation accuracy: 0.8781362007168458, Validation loss: 0.3579324848122067\n",
            "Finished training\n"
          ]
        }
      ]
    },
    {
      "cell_type": "code",
      "source": [
        "# Test 4: change hidden size to 30\n",
        "model = SpamRNN(input_size=len(text_field.vocab.itos), hidden_size=30, num_class=2)\n",
        "train_model(model, train_iter, val_iter, plot=False)"
      ],
      "metadata": {
        "colab": {
          "base_uri": "https://localhost:8080/"
        },
        "id": "Z0ShdnxPWsrs",
        "outputId": "f618e43b-fd37-438a-945e-e0257d6a3499"
      },
      "execution_count": null,
      "outputs": [
        {
          "output_type": "stream",
          "name": "stdout",
          "text": [
            "Epoch 1: Train accuracy: 0.9190981432360743, Train loss: 0.5704879506442108 |Validation accuracy: 0.9498207885304659, Validation loss: 0.26375748920771813\n",
            "Epoch 2: Train accuracy: 0.9214190981432361, Train loss: 0.24460110610449 |Validation accuracy: 0.9731182795698925, Validation loss: 0.1603152004794942\n",
            "Epoch 3: Train accuracy: 0.9123010610079576, Train loss: 0.22139208013878056 |Validation accuracy: 0.9713261648745519, Validation loss: 0.15501703404717976\n",
            "Epoch 4: Train accuracy: 0.9389920424403183, Train loss: 0.2168822089038593 |Validation accuracy: 0.9775985663082437, Validation loss: 0.13205636851489544\n",
            "Epoch 5: Train accuracy: 0.939157824933687, Train loss: 0.19054109405383077 |Validation accuracy: 0.9731182795698925, Validation loss: 0.13413025500873724\n",
            "Epoch 6: Train accuracy: 0.9444628647214854, Train loss: 0.17376987380220701 |Validation accuracy: 0.9713261648745519, Validation loss: 0.1407891595736146\n",
            "Epoch 7: Train accuracy: 0.9167771883289124, Train loss: 0.17710293684840986 |Validation accuracy: 0.9650537634408602, Validation loss: 0.1639901908735434\n",
            "Epoch 8: Train accuracy: 0.942473474801061, Train loss: 0.17937018455888487 |Validation accuracy: 0.978494623655914, Validation loss: 0.12051502951524323\n",
            "Epoch 9: Train accuracy: 0.9454575596816976, Train loss: 0.1647735053893963 |Validation accuracy: 0.9767025089605734, Validation loss: 0.12602999651183686\n",
            "Epoch 10: Train accuracy: 0.9482758620689655, Train loss: 0.16233845132427585 |Validation accuracy: 0.9713261648745519, Validation loss: 0.15257168281823397\n",
            "Finished training\n"
          ]
        }
      ]
    },
    {
      "cell_type": "markdown",
      "source": [
        "Test 1, increasing learning rate (1), had the best validation accuracy of 96.33%.\n",
        "\n",
        "\n",
        "\n",
        "\n"
      ],
      "metadata": {
        "id": "9xl1d9PCbN3u"
      }
    },
    {
      "cell_type": "markdown",
      "metadata": {
        "id": "Gznefulsa91V"
      },
      "source": [
        "##  Evaluation"
      ]
    },
    {
      "cell_type": "code",
      "execution_count": null,
      "metadata": {
        "id": "D5L5D-A1a91W",
        "colab": {
          "base_uri": "https://localhost:8080/"
        },
        "outputId": "8333c20d-4f48-410d-ea5f-721ac4c2d402"
      },
      "outputs": [
        {
          "output_type": "stream",
          "name": "stdout",
          "text": [
            "Test accuracy: 96.5 %\n"
          ]
        }
      ],
      "source": [
        "test_iter = torchtext.data.BucketIterator(test,\n",
        "                                           batch_size=32,\n",
        "                                           sort_key=lambda x: len(x.sms), # to minimize padding\n",
        "                                           sort_within_batch=True,        # sort within each batch\n",
        "                                           repeat=False)                  # repeat the iterator for many epochs\n",
        "\n",
        "print(\"Test accuracy:\", round(get_accuracy(model, test_iter)*100, 2), \"%\")"
      ]
    },
    {
      "cell_type": "code",
      "execution_count": null,
      "metadata": {
        "id": "GFiAKztJa91Z",
        "colab": {
          "base_uri": "https://localhost:8080/"
        },
        "outputId": "5bed0df0-bd98-49e8-9d64-8330b6398a5e"
      },
      "outputs": [
        {
          "output_type": "stream",
          "name": "stdout",
          "text": [
            "False positive rate 3.01 %\n",
            "False negative rate 8.05 %\n"
          ]
        }
      ],
      "source": [
        "test_spam = torchtext.data.Dataset(\n",
        "    [e for e in test.examples if e.label == 1],\n",
        "    test.fields)\n",
        "\n",
        "test_no_spam = torchtext.data.Dataset(\n",
        "    [e for e in test.examples if e.label == 0],\n",
        "    test.fields)\n",
        "\n",
        "spam_iter = torchtext.data.BucketIterator(test_spam,\n",
        "                                           batch_size=32,\n",
        "                                           sort_key=lambda x: len(x.sms), # to minimize padding\n",
        "                                           sort_within_batch=True,        # sort within each batch\n",
        "                                           repeat=False)                  # repeat the iterator for many epochs\n",
        "\n",
        "\n",
        "no_spam_iter = torchtext.data.BucketIterator(test_no_spam,\n",
        "                                           batch_size=32,\n",
        "                                           sort_key=lambda x: len(x.sms), # to minimize padding\n",
        "                                           sort_within_batch=True,        # sort within each batch\n",
        "                                           repeat=False)                  # repeat the iterator for many epochs\n",
        "\n",
        "print(\"False positive rate\", round(100 - get_accuracy(model, no_spam_iter)*100, 2), \"%\")\n",
        "print(\"False negative rate\", round(100 - get_accuracy(model, spam_iter)*100, 2), \"%\")"
      ]
    },
    {
      "cell_type": "code",
      "execution_count": null,
      "metadata": {
        "id": "h_2nSJq8a91b",
        "colab": {
          "base_uri": "https://localhost:8080/"
        },
        "outputId": "ed4663b1-6444-446d-8f4b-bba7f5273d6c"
      },
      "outputs": [
        {
          "output_type": "stream",
          "name": "stdout",
          "text": [
            "msg is spam: False\n"
          ]
        }
      ],
      "source": [
        "# test example message\n",
        "msg = \"machine learning is sooo cool!\"\n",
        "len(text_field.vocab.stoi)\n",
        "len(msg)\n",
        "\n",
        "chars_stoi= []\n",
        "for char in msg:\n",
        "    chars_stoi.append(text_field.vocab.stoi[char])\n",
        "\n",
        "chars_stoi = torch.tensor(chars_stoi).reshape(1, len(chars_stoi))\n",
        "\n",
        "output = model(chars_stoi)\n",
        "prediction = torch.argmax(output, axis = 1)\n",
        "\n",
        "print(\"msg is spam:\", prediction.item() == 1)"
      ]
    }
  ],
  "metadata": {
    "colab": {
      "provenance": [],
      "toc_visible": true
    },
    "kernelspec": {
      "display_name": "Python 3 (ipykernel)",
      "language": "python",
      "name": "python3"
    },
    "language_info": {
      "codemirror_mode": {
        "name": "ipython",
        "version": 3
      },
      "file_extension": ".py",
      "mimetype": "text/x-python",
      "name": "python",
      "nbconvert_exporter": "python",
      "pygments_lexer": "ipython3",
      "version": "3.9.4"
    }
  },
  "nbformat": 4,
  "nbformat_minor": 0
}